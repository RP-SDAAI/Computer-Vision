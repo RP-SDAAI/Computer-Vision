{
  "nbformat": 4,
  "nbformat_minor": 0,
  "metadata": {
    "colab": {
      "provenance": []
    },
    "kernelspec": {
      "name": "python3",
      "display_name": "Python 3"
    },
    "accelerator": "GPU",
    "gpuClass": "standard"
  },
  "cells": [
    {
      "cell_type": "markdown",
      "metadata": {
        "id": "GD9gUQpaBxNa"
      },
      "source": [
        "# Jupyter Notebook and processed mp4 file for Part 3\n",
        "Student Name: Lim Zhao Hong  \n",
        "Student ID: 20065320\n",
        "\n",
        "\n",
        "\n",
        "\n",
        "\n"
      ]
    },
    {
      "cell_type": "markdown",
      "metadata": {
        "id": "7mGmQbAO5pQb"
      },
      "source": [
        "#Install Dependencies\n",
        "\n",
        "_(Remember to choose GPU in Runtime if not already selected. Runtime --> Change Runtime Type --> Hardware accelerator --> GPU)_"
      ]
    },
    {
      "cell_type": "code",
      "source": [
        "from google.colab import drive\n",
        "drive.mount('/content/drive')"
      ],
      "metadata": {
        "id": "VfUQsjYnRfUE",
        "colab": {
          "base_uri": "https://localhost:8080/"
        },
        "outputId": "39e82630-f53d-4549-f98a-2e5778da8222"
      },
      "execution_count": 1,
      "outputs": [
        {
          "output_type": "stream",
          "name": "stdout",
          "text": [
            "Drive already mounted at /content/drive; to attempt to forcibly remount, call drive.mount(\"/content/drive\", force_remount=True).\n"
          ]
        }
      ]
    },
    {
      "cell_type": "code",
      "source": [
        "import cv2\n",
        "%matplotlib inline\n",
        "from matplotlib import pyplot as plt\n",
        "from IPython.display import clear_output\n",
        "from time import sleep\n",
        "from tqdm import tqdm"
      ],
      "metadata": {
        "id": "7XhSaJ5ebcto"
      },
      "execution_count": 2,
      "outputs": []
    },
    {
      "cell_type": "code",
      "metadata": {
        "id": "YH4CTzDRh00g"
      },
      "source": [
        "DataFolder = \"/content/drive/MyDrive/SDAAI/TA1-1-C3849C-A-Computer-Vision/CWF\"\n"
      ],
      "execution_count": 3,
      "outputs": []
    },
    {
      "cell_type": "markdown",
      "source": [
        "# yolov7-object-tracking"
      ],
      "metadata": {
        "id": "izYBiU6XchFO"
      }
    },
    {
      "cell_type": "code",
      "source": [
        "import cv2\n",
        "import sys\n",
        " \n",
        "(major_ver, minor_ver, subminor_ver) = (cv2.__version__).split('.')\n",
        " \n",
        "if __name__ == '__main__' :\n",
        " \n",
        "    # Set up tracker.\n",
        "    # Instead of MIL, you can also use\n",
        " \n",
        "    tracker_types = ['BOOSTING', 'MIL','KCF', 'TLD', 'MEDIANFLOW', 'GOTURN', 'MOSSE', 'CSRT']\n",
        "    tracker_type = tracker_types[2]\n",
        " \n",
        "    if int(minor_ver) < 3:\n",
        "        tracker = cv2.Tracker_create(tracker_type)\n",
        "    else:\n",
        "        if tracker_type == 'BOOSTING':\n",
        "            tracker = cv2.TrackerBoosting_create()\n",
        "        if tracker_type == 'MIL':\n",
        "            tracker = cv2.TrackerMIL_create()\n",
        "        if tracker_type == 'KCF':\n",
        "            tracker = cv2.TrackerKCF_create()\n",
        "        if tracker_type == 'TLD':\n",
        "            tracker = cv2.TrackerTLD_create()\n",
        "        if tracker_type == 'MEDIANFLOW':\n",
        "            tracker = cv2.TrackerMedianFlow_create()\n",
        "        if tracker_type == 'GOTURN':\n",
        "            tracker = cv2.TrackerGOTURN_create()\n",
        "        if tracker_type == 'MOSSE':\n",
        "            tracker = cv2.TrackerMOSSE_create()\n",
        "        if tracker_type == \"CSRT\":\n",
        "            tracker = cv2.TrackerCSRT_create()\n",
        " \n",
        "    # Read video\n",
        "    video = cv2.VideoCapture(DataFolder + \"/toycars.mp4\")\n",
        " \n",
        "    # Exit if video not opened.\n",
        "    if not video.isOpened():\n",
        "        print(\"Could not open video\")\n",
        "        sys.exit()\n",
        " \n",
        "    # Read first frame.\n",
        "    ok, frame = video.read()\n",
        "    if not ok:\n",
        "        print ('Cannot read video file')\n",
        "        sys.exit()\n",
        "     \n",
        "    # Define an initial bounding box\n",
        "    bbox = (287, 23, 86, 320)\n",
        " \n",
        "    # Uncomment the line below to select a different bounding box\n",
        "    bbox = cv2.selectROI(frame, False)\n",
        " \n",
        "    # Initialize tracker with first frame and bounding box\n",
        "    ok = tracker.init(frame, bbox)\n",
        " \n",
        "    while True:\n",
        "        # Read a new frame\n",
        "        ok, frame = video.read()\n",
        "        if not ok:\n",
        "            break\n",
        "         \n",
        "        # Start timer\n",
        "        timer = cv2.getTickCount()\n",
        " \n",
        "        # Update tracker\n",
        "        ok, bbox = tracker.update(frame)\n",
        " \n",
        "        # Calculate Frames per second (FPS)\n",
        "        fps = cv2.getTickFrequency() / (cv2.getTickCount() - timer);\n",
        " \n",
        "        # Draw bounding box\n",
        "        if ok:\n",
        "            # Tracking success\n",
        "            p1 = (int(bbox[0]), int(bbox[1]))\n",
        "            p2 = (int(bbox[0] + bbox[2]), int(bbox[1] + bbox[3]))\n",
        "            cv2.rectangle(frame, p1, p2, (255,0,0), 2, 1)\n",
        "        else :\n",
        "            # Tracking failure\n",
        "            cv2.putText(frame, \"Tracking failure detected\", (100,80), cv2.FONT_HERSHEY_SIMPLEX, 0.75,(0,0,255),2)\n",
        " \n",
        "        # Display tracker type on frame\n",
        "        cv2.putText(frame, tracker_type + \" Tracker\", (100,20), cv2.FONT_HERSHEY_SIMPLEX, 0.75, (50,170,50),2);\n",
        "     \n",
        "        # Display FPS on frame\n",
        "        cv2.putText(frame, \"FPS : \" + str(int(fps)), (100,50), cv2.FONT_HERSHEY_SIMPLEX, 0.75, (50,170,50), 2);\n",
        " \n",
        "        # Display result\n",
        "        cv2.imshow(\"Tracking\", frame)\n",
        " \n",
        "        # Exit if ESC pressed\n",
        "        k = cv2.waitKey(1) & 0xff\n",
        "        if k == 27 : break\n",
        "\n"
      ],
      "metadata": {
        "id": "bfLj__tIccVn"
      },
      "execution_count": null,
      "outputs": []
    }
  ]
}